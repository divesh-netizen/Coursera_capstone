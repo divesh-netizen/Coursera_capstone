# this notebook will be use for only coursera capstone project.
import pandas as pd
import numpy as np
print('Hello Capstone project Course!')
